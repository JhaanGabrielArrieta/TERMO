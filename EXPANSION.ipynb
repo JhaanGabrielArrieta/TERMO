# Expansión Térmica en Materiales Sólidos

## Introducción

En procesos termodinámicos existe una relación que evidencia las propiedades macroscópicas de los materiales. Esta indica lo siguiente:

> “A medida que la temperatura aumenta, su volumen también aumenta”

Este fenómeno es conocido como **EXPANSIÓN TÉRMICA**. En términos generales, al aumentar la temperatura de un sistema (debido a una fuente de energía en forma de calor), las partículas del material incrementan su velocidad promedio. Esto provoca que se genere una mayor vibración y, en consecuencia, las partículas se separen más entre sí. Como resultado, las dimensiones del material también aumentan. Este fenómeno está regido por la **primera ley de la termodinámica**, que establece la conservación de la energía.

A continuación, se presentan los tres tipos de transferencia de calor que se pueden observar en un proceso de expansión térmica:

1. Radiación
2. Convección
3. Conducción

### Imagen 1. Información General de Ejemplo sobre la Expansión Térmica
Aquí incluiríamos una imagen explicativa de la transferencia de calor, como el ejemplo mencionado.

Al transferir el calor al agua por **convección**, esta comienza a hervir. Como resultado, el volumen del agua aumenta al pasar del estado líquido al gaseoso. En los sólidos, también se observa un aumento en las dimensiones físicas debido a la expansión térmica.

## Expansión Térmica Lineal

El fenómeno de **expansión térmica lineal** se describe matemáticamente con la siguiente ecuación:

\[
\Delta L = \alpha L_0 \Delta T \tag{1}
\]

Donde:

- \( \Delta L \): Cambio en la longitud del sólido (en metros, m).
- \( \alpha \): Coeficiente de expansión térmica lineal (en °C\(^{-1}\) o K\(^{-1}\)).
- \( L_0 \): Longitud inicial del sólido (en metros, m).
- \( \Delta T \): Cambio de temperatura (en grados Celsius, °C, o Kelvin, K).

### Expansión Térmica en Sólidos

En este caso, la expansión térmica ocurre cuando el material aumenta de tamaño debido al aumento de la temperatura. Este fenómeno se debe a un aumento en la energía cinética de las moléculas o átomos que componen el material, lo que resulta en mayor vibración y separación entre las partículas.

Cabe mencionar que si un material tiene una cavidad (como un cilindro con un agujero), tanto el material como el agujero experimentan una expansión proporcional. Es decir, la cavidad se expande de la misma manera que si estuviera llena de material.

### Tipos de Transferencia de Calor

Los mecanismos por los cuales se transfiere el calor incluyen:

1. **Radiación**: Transferencia de energía en forma de ondas electromagnéticas.
2. **Convección**: Transferencia de calor por el movimiento de un fluido.
3. **Conducción**: Transferencia de calor por contacto directo entre materiales.

Al transferir calor a un sólido, como el agua, se observa el cambio físico en su estado, por ejemplo, el paso de líquido a gas en un proceso de **evaporación**.

## Experimento con Materiales Metálicos

En el experimento se utilizarán tres metales cilíndricos para estudiar su comportamiento ante cambios de temperatura. A continuación, se puede mostrar cómo se calcula la expansión térmica lineal de cada uno de estos materiales.

```python
# Cálculo de la expansión térmica lineal
def calcular_expansion_termica(alpha, L0, delta_T):
    """
    Calcula el cambio en la longitud de un material debido a expansión térmica.
    
    Parámetros:
    alpha (float): Coeficiente de expansión térmica (°C^-1 o K^-1)
    L0 (float): Longitud inicial (m)
    delta_T (float): Cambio de temperatura (°C o K)
    
    Retorna:
    float: Cambio en la longitud (m)
    """
    delta_L = alpha * L0 * delta_T
    return delta_L

# Parámetros de ejemplo para un material
alpha_material_1 = 0.000012  # Coeficiente de expansión térmica en °C^-1
L0_material_1 = 2.0         # Longitud inicial en metros
delta_T_material_1 = 50     # Cambio de temperatura en °C

# Cálculo de la expansión térmica
delta_L_material_1 = calcular_expansion_termica(alpha_material_1, L0_material_1, delta_T_material_1)
delta_L_material_1
