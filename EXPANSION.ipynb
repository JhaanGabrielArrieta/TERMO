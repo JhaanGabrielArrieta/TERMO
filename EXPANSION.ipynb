{
 "cells": [
  {
   "cell_type": "markdown",
   "metadata": {},
   "source": [
    "# Calor Especifico y Capacidad Calorífica\n",
    "**Víctor Bernal $^1$ 8-1022-243**<br>\n",
    "**Oliver Lira $^1$ 6-725-1136**<br>\n",
    "**Jhaan Arrieta $^1$ 8-946-1923**<br>\n",
    "**Marco Gamboa $^1$ Ec-38-711**\n",
    "\n",
    "**Facultad de Ciencias Naturales, Exactas y Tecnología $^1$**  \n",
    "**Universidad de Panamá**  \n"
   ]
  },
  {
   "cell_type": "markdown",
   "metadata": {},
   "source": [
    "## Introducción\n",
    "\n",
    "El **calor específico** (o capacidad calorífica específica) es la cantidad de calor necesaria para cambiar la temperatura de una cantidad específica de una sustancia. Este valor es importante porque determina cómo un material responde al calentamiento o enfriamiento. Se relaciona directamente con la cantidad de energía que se necesita para cambiar la temperatura de un objeto o sustancia de una cantidad dada.\n",
    "\n",
    "La **capacidad calorífica** es la cantidad total de calor necesario para cambiar la temperatura de un cuerpo completo. Esta propiedad depende tanto del material como de su cantidad. En términos generales, el calor específico es una propiedad intensiva (no depende de la cantidad de material), mientras que la capacidad calorífica es una propiedad extensiva (depende de la cantidad de material).\n",
    "\n",
    "### Relación entre Calor Específico y Capacidad Calorífica\n",
    "La capacidad calorífica (\(C\)) de una sustancia está relacionada con su calor específico (\(c\)) a través de la siguiente ecuación:\n",
    "\n",
    "$$ Q = mc\Delta T $$\n",
    "\n",
    "Donde:\n",
    "- **Q** es el calor transferido (en julios, J).\n",
    "- **m** es la masa de la sustancia (en kilogramos, kg).\n",
    "- **c** es el calor específico de la sustancia (en J/(kg·°C)).\n",
    "- **ΔT** es el cambio de temperatura (en grados Celsius, °C).\n",
    "\n",
    "Este concepto es fundamental en muchos procesos termodinámicos, y tiene aplicaciones prácticas en áreas como la ingeniería, la meteorología, y la química."
   ]
  },
  {
   "cell_type": "code",
   "metadata": {},
   "source": [
    "# Ejemplo de cálculo de calor específico y capacidad calorífica\n",
    "\n",
    "# Definir variables para el cálculo\n",
    "m = 2.5  # Masa de la sustancia en kilogramos (kg)\n",
    "c = 900  # Calor específico de la sustancia en J/(kg·°C)\n",
    "delta_T = 10  # Cambio de temperatura en grados Celsius (°C)\n",
    "\n",
    "# Cálculo de la cantidad de calor transferido\n",
    "Q = m * c * delta_T\n",
    "Q  # Mostrar el resultado en julios (J)"
   ]
  },
  {
   "cell_type": "markdown",
   "metadata": {},
   "source": [
    "## Resultados y Conclusión\n",
    "\n",
    "A partir del cálculo realizado, la cantidad de calor necesaria para cambiar la temperatura de la sustancia dada es de **22,500 J (julios)**. Este valor es importante para entender cómo se maneja la energía térmica en diferentes sistemas.\n",
    "\n",
    "El calor específico y la capacidad calorífica son conceptos clave en la termodinámica, ya que nos permiten predecir el comportamiento de materiales bajo variaciones de temperatura, y son fundamentales en el diseño de sistemas térmicos, como los motores o intercambiadores de calor."
   ]
  }
 ],
 "metadata": {
  "kernelspec": {
   "display_name": "Python 3",
   "language": "python",
   "name": "python3"
  },
  "language_info": {
   "codemirror_mode": {
    "name": "ipython",
    "version": 3
   },
   "file_extension": ".py",
   "mimetype": "text/x-python",
   "name": "python",
   "nbconvert_exporter": "python",
   "version": "3.9.7"
  }
 },
 "nbformat": 4,
 "nbformat_minor": 5
}

