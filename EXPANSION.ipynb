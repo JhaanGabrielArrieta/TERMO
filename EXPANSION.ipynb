{
 "cells": [
  {
   "cell_type": "markdown",
   "metadata": {},
   "source": [
    "# Expansión Térmica en Materiales Sólidos\n",
    "\n",
    "## Introducción\n",
    "\n",
    "En procesos termodinámicos existe una relación que evidencia las propiedades macroscópicas de los materiales. Esta indica lo siguiente:\n",
    "\n",
    "> \"A medida que la temperatura aumenta, su volumen también aumenta\"\n",
    "\n",
    "Este fenómeno es conocido como **EXPANSIÓN TÉRMICA**. En términos generales, al aumentar la temperatura de un sistema (debido a una fuente de energía en forma de calor), las partículas del material incrementan su velocidad promedio. Esto provoca que se genere una mayor vibración y, en consecuencia, las partículas se separen más entre sí. Como resultado, las dimensiones del material también aumentan. Este fenómeno está regido por la **primera ley de la termodinámica**, que establece la conservación de la energía.\n",
    "\n",
    "A continuación, se presentan los tres tipos de transferencia de calor que se pueden observar en un proceso de expansión térmica:\n",
    "\n",
    "1. Radiación\n",
    "2. Convección\n",
    "3. Conducción\n",
    "\n",
    "### Imagen 1. Información General de Ejemplo sobre la Expansión Térmica\n",
    "_Aquí incluiríamos una imagen explicativa de la transferencia de calor, como el ejemplo mencionado._\n",
    "\n",
    "Al transferir el calor al agua por **convección**, esta comienza a hervir. Como resultado, el volumen del agua aumenta al pasar del estado líquido al gaseoso. En los sólidos, también se observa un aumento en las dimensiones físicas debido a la expansión térmica.\n"
   ]
  },
  {
   "cell_type": "markdown",
   "metadata": {},
   "source": [
    "## Expansión Térmica Lineal\n",
    "\n",
    "El fenómeno de **expansión térmica lineal** se describe matemáticamente con la siguiente ecuación:\n",
    "\n",
    "$$ \\Delta L = \\alpha L_0 \\Delta T $$\n",
    "\n",
    "Donde:\n",
    "\n",
    "- $\\Delta L$: Cambio en la longitud del sólido (en metros, m).\n",
    "- $\\alpha$: Coeficiente de expansión térmica lineal (en °C$^{-1}$ o K$^{-1}$).\n",
    "- $L_0$: Longitud inicial del sólido (en metros, m).\n",
    "- $\\Delta T$: Cambio de temperatura (en grados Celsius, °C, o Kelvin, K).\n",
    "\n",
    "### Expansión Térmica en Sólidos\n",
    "En este caso, la expansión térmica ocurre cuando el material aumenta de tamaño debido al aumento de la temperatura. Este fenómeno se debe a un aumento en la energía cinética de las moléculas o átomos que componen el material, lo que resulta en mayor vibración y separación entre las partículas.\n",
    "\n",
    "Cabe mencionar que si un material tiene una cavidad (como un cilindro con un agujero), tanto el material como el agujero experimentan una expansión proporcional. Es decir, la cavidad se expande de la misma manera que si estuviera llena de material.\n",
    "\n",
    "### Tipos de Transferencia de Calor\n",
    "Los mecanismos por los cuales se transfiere el calor incluyen:\n",
    "\n",
    "1. **Radiación**: Transferencia de energía en forma de ondas electromagnéticas.\n",
    "2. **Convección**: Transferencia de calor por el movimiento de un fluido.\n",
    "3. **Conducción**: Transferencia de calor por contacto directo entre materiales.\n",
    "\n",
    "Al transferir calor a un sólido, como el agua, se observa el cambio físico en su estado, por ejemplo, el paso de líquido a gas en un proceso de **evaporación**.\n"
   ]
  },
  {
   "cell_type": "code",
   "metadata": {},
   "source": [
    "# Cálculo de la expansión térmica lineal\n",
    "\n",
    "def calcular_expansion_termica(alpha, L0, delta_T):\n",
    "    \"\"\"\n",
    "    Calcula el cambio en la longitud de un material debido a expansión térmica.\n",
    "    \n",
    "    Parámetros:\n",
    "    alpha (float): Coeficiente de expansión térmica (°C^-1 o K^-1)\n",
    "    L0 (float): Longitud inicial (m)\n",
    "    delta_T (float): Cambio de temperatura (°C o K)\n",
    "    \n",
    "    Retorna:\n",
    "    float: Cambio en la longitud (m)\n",
    "    \"\"\"\n",
    "    delta_L = alpha * L0 * delta_T\n",
    "    return delta_L\n",
    "\n",
    "# Parámetros de ejemplo para un material\n",
    "alpha_material_1 = 0.000012  # Coeficiente de expansión térmica en °C^-1\n",
    "L0_material_1 = 2.0         # Longitud inicial en metros\n",
    "delta_T_material_1 = 50     # Cambio de temperatura en °C\n",
    "\n",
    "# Cálculo de la expansión térmica\n",
    "delta_L_material_1 = calcular_expansion_termica(alpha_material_1, L0_material_1, delta_T_material_1)\n",
    "delta_L_material_1  # Mostrar el resultado en metros"
   ]
  },
  {
   "cell_type": "markdown",
   "metadata": {},
   "source": [
    "## Resultados y Conclusión\n",
    "\n",
    "La expansión térmica es un fenómeno clave en termodinámica, especialmente cuando se trata de cambios en la longitud, área o volumen de materiales sólidos debido a variaciones térmicas. El coeficiente de expansión térmica lineal es fundamental para predecir cómo se comportarán los materiales ante cambios de temperatura. Este conocimiento tiene aplicaciones en ingeniería, como en el diseño de estructuras y dispositivos que deben soportar fluctuaciones térmicas.\n"
   ]
  }
 ],
 "metadata": {
  "kernelspec": {
   "display_name": "Python 3",
   "language": "python",
   "name": "python3"
  },
  "language_info": {
   "codemirror_mode": {
    "name": "ipython",
    "version": 3
   },
   "file_extension": ".py",
   "mimetype": "text/x-python",
   "name": "python",
   "nbconvert_exporter": "python",
   "version": "3.9.7"
  }
 },
 "nbformat": 4,
 "nbformat_minor": 5
}


